{
 "cells": [
  {
   "cell_type": "code",
   "execution_count": null,
   "id": "bffd40bd",
   "metadata": {},
   "outputs": [],
   "source": [
    "\n",
    "from pandas import read_csv"
   ]
  },
  {
   "cell_type": "code",
   "execution_count": null,
   "id": "70b03d2e",
   "metadata": {},
   "outputs": [],
   "source": [
    "read_csv(\n",
    "    filepath_or_buffer=\"bike_sharing.csv\",\n",
    ")"
   ]
  }
 ],
 "metadata": {
  "kernelspec": {
   "display_name": "Python 3",
   "language": "python",
   "name": "python3"
  },
  "language_info": {
   "name": "python",
   "version": "3.9.6"
  }
 },
 "nbformat": 4,
 "nbformat_minor": 5
}
